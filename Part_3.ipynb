{
 "cells": [
  {
   "cell_type": "code",
   "execution_count": 4,
   "metadata": {},
   "outputs": [],
   "source": [
    "# Import library\n",
    "import pandas as pd"
   ]
  },
  {
   "cell_type": "code",
   "execution_count": 5,
   "metadata": {},
   "outputs": [],
   "source": [
    "# Create the function\n",
    "def rankhospital(state, outcome, num):\n",
    "    # Read the csv into a dataframe\n",
    "    df = pd.read_csv('/home/stephen/Week4_Assignment/outcome-of-care-measures.csv')\n",
    "    # Pull out all the data for hospitals in a specific state & store it in a new dataframe\n",
    "    df_state = df[df['State'] == state]\n",
    "    # Sort the values in the column of a specific outcome in ascending order\n",
    "    df_state.sort_values(by=[outcome], inplace=True)\n",
    "    # Count the number of non-NaN values in the specific outcome column\n",
    "    # This only works if the cells in the csv say 'NaN' not 'Not Available' or anything else\n",
    "    n_obs = df_state[outcome].count()\n",
    "    # Print the hospital name when 'num' is equal to 'best' \n",
    "    if num == 'best':\n",
    "        print(df_state.iloc[0]['Hospital Name'])\n",
    "    # What to do when 'num' is equal to 'worst'\n",
    "    elif num == 'worst':\n",
    "        # Find the maximum value for a specific outcome\n",
    "        max_value = df_state[outcome].max()\n",
    "        # Find the name/s of the hospital/s with the maximum value\n",
    "        name = df_state.loc[df_state[outcome] == max_value, 'Hospital Name']\n",
    "        print(name)\n",
    "    # Print an error message if 'num' is greater than the rankings available\n",
    "    elif num > n_obs:\n",
    "        print('NA')\n",
    "    # Loop through every possible ranking\n",
    "    for x in list(range(0, n_obs)):\n",
    "        # Print the hospital name associated with a specific ranking\n",
    "        if num == x + 1:\n",
    "            print(df_state.iloc[x]['Hospital Name'])"
   ]
  },
  {
   "cell_type": "code",
   "execution_count": 6,
   "metadata": {},
   "outputs": [
    {
     "name": "stdout",
     "output_type": "stream",
     "text": [
      "CRESTWOOD MEDICAL CENTER\n"
     ]
    },
    {
     "name": "stderr",
     "output_type": "stream",
     "text": [
      "<ipython-input-5-a0a8d86a5f47>:8: SettingWithCopyWarning: \n",
      "A value is trying to be set on a copy of a slice from a DataFrame\n",
      "\n",
      "See the caveats in the documentation: https://pandas.pydata.org/pandas-docs/stable/user_guide/indexing.html#returning-a-view-versus-a-copy\n",
      "  df_state.sort_values(by=[outcome], inplace=True)\n"
     ]
    }
   ],
   "source": [
    "try:\n",
    "    rankhospital('AL', \n",
    "                 'Lower Mortality Estimate - Hospital 30-Day Death (Mortality) Rates from Heart Attack', \n",
    "                 'best')\n",
    "except:\n",
    "    print('invalid state, outcome or num')"
   ]
  },
  {
   "cell_type": "code",
   "execution_count": 7,
   "metadata": {},
   "outputs": [
    {
     "name": "stderr",
     "output_type": "stream",
     "text": [
      "<ipython-input-5-a0a8d86a5f47>:8: SettingWithCopyWarning: \n",
      "A value is trying to be set on a copy of a slice from a DataFrame\n",
      "\n",
      "See the caveats in the documentation: https://pandas.pydata.org/pandas-docs/stable/user_guide/indexing.html#returning-a-view-versus-a-copy\n",
      "  df_state.sort_values(by=[outcome], inplace=True)\n"
     ]
    },
    {
     "name": "stdout",
     "output_type": "stream",
     "text": [
      "68    MOBILE INFIRMARY\n",
      "Name: Hospital Name, dtype: object\n"
     ]
    }
   ],
   "source": [
    "try:\n",
    "    rankhospital('AL', \n",
    "                 'Lower Mortality Estimate - Hospital 30-Day Death (Mortality) Rates from Heart Attack', \n",
    "                 'worst')\n",
    "except:\n",
    "    print('invalid state, outcome or num')"
   ]
  },
  {
   "cell_type": "code",
   "execution_count": 8,
   "metadata": {},
   "outputs": [
    {
     "name": "stdout",
     "output_type": "stream",
     "text": [
      "PRATTVILLE BAPTIST HOSPITAL\n"
     ]
    },
    {
     "name": "stderr",
     "output_type": "stream",
     "text": [
      "<ipython-input-5-a0a8d86a5f47>:8: SettingWithCopyWarning: \n",
      "A value is trying to be set on a copy of a slice from a DataFrame\n",
      "\n",
      "See the caveats in the documentation: https://pandas.pydata.org/pandas-docs/stable/user_guide/indexing.html#returning-a-view-versus-a-copy\n",
      "  df_state.sort_values(by=[outcome], inplace=True)\n"
     ]
    }
   ],
   "source": [
    "try:\n",
    "    rankhospital('AL', \n",
    "                 'Lower Mortality Estimate - Hospital 30-Day Death (Mortality) Rates from Heart Attack', \n",
    "                 2)\n",
    "except:\n",
    "    print('invalid state, outcome or num')"
   ]
  }
 ],
 "metadata": {
  "kernelspec": {
   "display_name": "Python 3",
   "language": "python",
   "name": "python3"
  },
  "language_info": {
   "codemirror_mode": {
    "name": "ipython",
    "version": 3
   },
   "file_extension": ".py",
   "mimetype": "text/x-python",
   "name": "python",
   "nbconvert_exporter": "python",
   "pygments_lexer": "ipython3",
   "version": "3.8.5"
  }
 },
 "nbformat": 4,
 "nbformat_minor": 4
}
