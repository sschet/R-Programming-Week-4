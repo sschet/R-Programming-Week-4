{
 "cells": [
  {
   "cell_type": "code",
   "execution_count": 1,
   "metadata": {},
   "outputs": [],
   "source": [
    "# Import Libraries\n",
    "import pandas as pd"
   ]
  },
  {
   "cell_type": "code",
   "execution_count": 23,
   "metadata": {},
   "outputs": [],
   "source": [
    "# Create the function\n",
    "def best(state, outcome):\n",
    "    # Read the csv into a dataframe\n",
    "    df = pd.read_csv('/home/stephen/Week4_Assignment/outcome-of-care-measures.csv')\n",
    "    # Pull out all the data for hospitals in a specific state & store it in a new dataframe\n",
    "    df_state = df[df['State'] == state]\n",
    "    # Find the minimum value for a specific outcome\n",
    "    min_value = df_state[outcome].min()\n",
    "    # Find the name/s of the hospital/s with the minimum value\n",
    "    name = df_state.loc[df_state[outcome] == min_value, 'Hospital Name']\n",
    "    # Convert the hospital name/s to a list\n",
    "    name_list = list(name)\n",
    "    # Sort the list alphabetically\n",
    "    sorted_list = sorted(name_list)\n",
    "    # Print out the firt element in the sorted list\n",
    "    print(sorted_list[0])"
   ]
  },
  {
   "cell_type": "code",
   "execution_count": 24,
   "metadata": {},
   "outputs": [
    {
     "name": "stdout",
     "output_type": "stream",
     "text": [
      "CRESTWOOD MEDICAL CENTER\n"
     ]
    }
   ],
   "source": [
    "# Invoke the function within a try/except block\n",
    "try:\n",
    "    best('AL', 'Hospital 30-Day Death (Mortality) Rates from Heart Attack')\n",
    "except:\n",
    "    print('invalid state or outcome')"
   ]
  }
 ],
 "metadata": {
  "kernelspec": {
   "display_name": "Python 3",
   "language": "python",
   "name": "python3"
  },
  "language_info": {
   "codemirror_mode": {
    "name": "ipython",
    "version": 3
   },
   "file_extension": ".py",
   "mimetype": "text/x-python",
   "name": "python",
   "nbconvert_exporter": "python",
   "pygments_lexer": "ipython3",
   "version": "3.8.5"
  }
 },
 "nbformat": 4,
 "nbformat_minor": 4
}
